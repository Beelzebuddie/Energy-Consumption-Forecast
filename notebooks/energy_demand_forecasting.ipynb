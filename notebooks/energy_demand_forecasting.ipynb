{
 "cells": [
  {
   "cell_type": "code",
   "execution_count": null,
   "metadata": {},
   "outputs": [],
   "source": [
    "import pandas as pd\n",
    "import numpy as np\n",
    "import matplotlib.pyplot as plt\n",
    "from xgboost import XGBRegressor\n",
    "from sklearn.ensemble import RandomForestRegressor\n",
    "from sklearn.metrics import mean_absolute_error, mean_squared_error\n",
    "from statsmodels.tsa.holtwinters import ExponentialSmoothing\n",
    "from pmdarima import auto_arima"
   ]
  },
  {
   "cell_type": "code",
   "execution_count": 2,
   "metadata": {},
   "outputs": [],
   "source": [
    "file_path = r\"C:\\Code\\energy-demand-forecasting\\data\\raw\\use_all_btu.csv\"\n",
    "\n",
    "data = pd.read_csv(file_path)"
   ]
  },
  {
   "cell_type": "code",
   "execution_count": null,
   "metadata": {},
   "outputs": [],
   "source": [
    "print(\"First 5 rows of the dataset:\")\n",
    "display(data.head())"
   ]
  },
  {
   "cell_type": "code",
   "execution_count": null,
   "metadata": {},
   "outputs": [],
   "source": [
    "print(\"\\nDataset Info:\")\n",
    "data.info()"
   ]
  },
  {
   "cell_type": "code",
   "execution_count": null,
   "metadata": {},
   "outputs": [],
   "source": [
    "print(\"\\nMissing Values in Each Column:\")\n",
    "print(data.isnull().sum())"
   ]
  },
  {
   "cell_type": "code",
   "execution_count": null,
   "metadata": {},
   "outputs": [],
   "source": [
    "print(\"\\nMissing Values in Each Column:\")\n",
    "print(data.isnull().sum())"
   ]
  },
  {
   "cell_type": "markdown",
   "metadata": {},
   "source": [
    "# Observations from the Data"
   ]
  },
  {
   "cell_type": "markdown",
   "metadata": {},
   "source": [
    "## Structure:"
   ]
  },
  {
   "cell_type": "markdown",
   "metadata": {},
   "source": [
    "- The dataset has 14,773 rows and 66 columns.\n",
    "- The columns Data_Status, State, and MSN are categorical, while the rest are numeric years (1960–2022)."
   ]
  },
  {
   "cell_type": "markdown",
   "metadata": {},
   "source": [
    "## Missing Data:"
   ]
  },
  {
   "cell_type": "markdown",
   "metadata": {},
   "source": [
    "- The columns for earlier years (e.g., 1960–1969) have significant missing values (4264 out of 14,773 rows).\n",
    "- Recent years (2018–2022) have no missing values."
   ]
  },
  {
   "cell_type": "markdown",
   "metadata": {},
   "source": [
    "## Potentially Useful Columns"
   ]
  },
  {
   "cell_type": "markdown",
   "metadata": {},
   "source": [
    "- Data_Status: Indicates the status of the data (e.g., final forecast).\n",
    "- State: State-wise energy consumption data.\n",
    "- MSN: Codes for energy types or activities (must decode using msn_codes_and_descriptions.xlsx)."
   ]
  },
  {
   "cell_type": "markdown",
   "metadata": {},
   "source": [
    "## Time-Series Structure:"
   ]
  },
  {
   "cell_type": "markdown",
   "metadata": {},
   "source": [
    "- Data is structured as a time series, with rows representing State and MSN, and columns being years (1960–2022)."
   ]
  },
  {
   "cell_type": "code",
   "execution_count": null,
   "metadata": {},
   "outputs": [],
   "source": [
    "data_long = pd.melt(\n",
    "    data, \n",
    "    id_vars=['Data_Status', 'State', 'MSN'], \n",
    "    var_name='Year', \n",
    "    value_name='Energy_Consumption'\n",
    ")\n",
    "\n",
    "data_long['Year'] = data_long['Year'].astype(int)\n",
    "\n",
    "print(data_long.head())\n"
   ]
  },
  {
   "cell_type": "code",
   "execution_count": null,
   "metadata": {},
   "outputs": [],
   "source": [
    "msn_codes = pd.read_excel(r'C:\\Code\\energy-demand-forecasting\\docs\\msn_codes_and_descriptions.xlsx')\n",
    "msn_codes_path = r\"C:\\Code\\energy-demand-forecasting\\docs\\msn_codes_and_descriptions.xlsx\"\n",
    "msn_codes_df = pd.read_excel(msn_codes_path)\n",
    "\n",
    "# Display the first few rows of the MSN codes dataframe\n",
    "msn_codes_df.head()"
   ]
  },
  {
   "cell_type": "code",
   "execution_count": null,
   "metadata": {},
   "outputs": [],
   "source": [
    "msn_codes_sheets = pd.ExcelFile(msn_codes_path).sheet_names\n",
    "msn_codes_sheets"
   ]
  },
  {
   "cell_type": "code",
   "execution_count": null,
   "metadata": {},
   "outputs": [],
   "source": [
    "# Load the 'MSN descriptions' sheet\n",
    "msn_descriptions_df = pd.read_excel(msn_codes_path, sheet_name='MSN descriptions')\n",
    "\n",
    "# Display the first few rows of the loaded sheet to confirm the structure\n",
    "msn_descriptions_df.head()"
   ]
  },
  {
   "cell_type": "code",
   "execution_count": null,
   "metadata": {},
   "outputs": [],
   "source": [
    "msn_descriptions_updated_df = pd.read_excel(msn_codes_path, sheet_name='MSN descriptions')\n",
    "\n",
    "# Display the first few rows of the updated file to confirm the structure\n",
    "msn_descriptions_updated_df.head()"
   ]
  },
  {
   "cell_type": "code",
   "execution_count": null,
   "metadata": {},
   "outputs": [],
   "source": [
    "# Clean the MSN descriptions table\n",
    "msn_cleaned_df = msn_descriptions_updated_df[['MSN', 'Description', 'Unit']].dropna().reset_index(drop=True)\n",
    "\n",
    "# Display the cleaned table\n",
    "msn_cleaned_df.head()"
   ]
  },
  {
   "cell_type": "code",
   "execution_count": null,
   "metadata": {},
   "outputs": [],
   "source": [
    "# Load the main dataset\n",
    "use_all_btu_path = r\"C:\\Code\\energy-demand-forecasting\\data\\raw\\use_all_btu.csv\"\n",
    "use_all_btu_df = pd.read_csv(use_all_btu_path)\n",
    "\n",
    "# Merge the main dataset with the MSN descriptions\n",
    "merged_df = pd.merge(use_all_btu_df, msn_cleaned_df, on=\"MSN\", how=\"left\")\n",
    "\n",
    "# Display the first few rows of the merged dataset\n",
    "print(merged_df.head())\n",
    "\n",
    "# Save the merged dataset for future use\n",
    "merged_df.to_csv(r\"C:\\Code\\energy-demand-forecasting\\data\\processed\\use_all_btu_with_descriptions.csv\", index=False)\n"
   ]
  },
  {
   "cell_type": "code",
   "execution_count": null,
   "metadata": {},
   "outputs": [],
   "source": [
    "# Define the path to the main dataset\n",
    "use_all_btu_path = r\"C:\\Code\\energy-demand-forecasting\\data\\raw\\use_all_btu.csv\"\n",
    "\n",
    "# Load the main dataset\n",
    "use_all_btu_df = pd.read_csv(use_all_btu_path)\n",
    "\n",
    "# Merge the main dataset with the MSN descriptions\n",
    "merged_df = pd.merge(use_all_btu_df, msn_cleaned_df, on=\"MSN\", how=\"left\")\n",
    "\n",
    "# Save the merged dataset for future use\n",
    "processed_path = r\"C:\\Code\\energy-demand-forecasting\\data\\processed\\use_all_btu_with_descriptions.csv\"\n",
    "merged_df.to_csv(processed_path, index=False)\n",
    "\n",
    "# Display the first few rows of the merged dataset\n",
    "merged_df.head(), processed_path\n"
   ]
  },
  {
   "cell_type": "code",
   "execution_count": 15,
   "metadata": {},
   "outputs": [],
   "source": [
    "# Filter for nuclear-related MSNs\n",
    "nuclear_data = merged_df[merged_df['Description'].str.contains('nuclear', case=False, na=False)]\n"
   ]
  },
  {
   "cell_type": "code",
   "execution_count": null,
   "metadata": {},
   "outputs": [],
   "source": [
    "print(\"Nuclear-Related Data:\")\n",
    "display(nuclear_data.head())"
   ]
  },
  {
   "cell_type": "code",
   "execution_count": 17,
   "metadata": {},
   "outputs": [],
   "source": [
    "# Reshape data to long format for analysis\n",
    "nuclear_long = pd.melt(\n",
    "    nuclear_data,\n",
    "    id_vars=['Data_Status', 'State', 'MSN', 'Description', 'Unit'],\n",
    "    var_name='Year',\n",
    "    value_name='Energy_Consumption'\n",
    ")"
   ]
  },
  {
   "cell_type": "code",
   "execution_count": 18,
   "metadata": {},
   "outputs": [],
   "source": [
    "nuclear_long['Year'] = pd.to_numeric(nuclear_long['Year'], errors='coerce')"
   ]
  },
  {
   "cell_type": "code",
   "execution_count": 19,
   "metadata": {},
   "outputs": [],
   "source": [
    "nuclear_long = nuclear_long.dropna(subset=['Energy_Consumption'])"
   ]
  },
  {
   "cell_type": "code",
   "execution_count": null,
   "metadata": {},
   "outputs": [],
   "source": [
    "state_data = nuclear_long[nuclear_long['State'] == 'CA']\n",
    "plt.figure(figsize=(10, 6))\n",
    "for msn in state_data['MSN'].unique():\n",
    "    subset = state_data[state_data['MSN'] == msn]\n",
    "    plt.plot(subset['Year'], subset['Energy_Consumption'], label=msn)\n",
    "\n",
    "plt.title(\"Nuclear Energy Consumption in California\")\n",
    "plt.xlabel(\"Year\")\n",
    "plt.ylabel(\"Energy Consumption (Billion BTU)\")\n",
    "plt.legend(title=\"MSN\")\n",
    "plt.grid()\n",
    "plt.show()"
   ]
  },
  {
   "cell_type": "code",
   "execution_count": null,
   "metadata": {},
   "outputs": [],
   "source": [
    "# Focus on the MSN code 'NUEGB' for detailed analysis\n",
    "nuegb_data = nuclear_long[(nuclear_long['State'] == 'CA') & (nuclear_long['MSN'] == 'NUEGB')]\n",
    "\n",
    "# Plot the trend for NUEGB\n",
    "plt.figure(figsize=(10, 6))\n",
    "plt.plot(nuegb_data['Year'], nuegb_data['Energy_Consumption'], marker='o', label='NUEGB')\n",
    "\n",
    "# Highlight drop-off points\n",
    "plt.axvline(x=2010, color='red', linestyle='--', label='Drop-off Start')\n",
    "plt.title(\"Nuclear Energy Consumption (NUEGB) in California\")\n",
    "plt.xlabel(\"Year\")\n",
    "plt.ylabel(\"Energy Consumption (Billion BTU)\")\n",
    "plt.legend()\n",
    "plt.grid()\n",
    "plt.show()\n"
   ]
  },
  {
   "cell_type": "code",
   "execution_count": null,
   "metadata": {},
   "outputs": [],
   "source": [
    "# Focus on NUEGB across all states\n",
    "nuegb_all_states = nuclear_long[nuclear_long['MSN'] == 'NUEGB']\n",
    "\n",
    "# Plot trends for the top 5 states with the most data\n",
    "top_states = nuegb_all_states['State'].value_counts().head(5).index\n",
    "plt.figure(figsize=(12, 8))\n",
    "for state in top_states:\n",
    "    state_data = nuegb_all_states[nuegb_all_states['State'] == state]\n",
    "    plt.plot(state_data['Year'], state_data['Energy_Consumption'], label=state)\n",
    "\n",
    "plt.title(\"Nuclear Energy Consumption (NUEGB) Across Top 5 States\")\n",
    "plt.xlabel(\"Year\")\n",
    "plt.ylabel(\"Energy Consumption (Billion BTU)\")\n",
    "plt.legend(title=\"State\")\n",
    "plt.grid()\n",
    "plt.show()\n"
   ]
  },
  {
   "cell_type": "code",
   "execution_count": null,
   "metadata": {},
   "outputs": [],
   "source": [
    "# Identify years with missing or zero values\n",
    "missing_years = nuegb_data[nuegb_data['Energy_Consumption'] == 0]\n",
    "print(\"Years with missing or zero consumption in California:\")\n",
    "print(missing_years)\n"
   ]
  },
  {
   "cell_type": "code",
   "execution_count": null,
   "metadata": {},
   "outputs": [],
   "source": [
    "# Sum nuclear energy consumption across all states for NUEGB\n",
    "national_trends = nuclear_long[nuclear_long['MSN'] == 'NUEGB'].groupby('Year').sum()\n",
    "\n",
    "# Plot national trends\n",
    "plt.figure(figsize=(12, 8))\n",
    "plt.plot(national_trends.index, national_trends['Energy_Consumption'], marker='o', color='blue', label='National Total')\n",
    "plt.title(\"National Nuclear Energy Consumption Trends (NUEGB)\")\n",
    "plt.xlabel(\"Year\")\n",
    "plt.ylabel(\"Energy Consumption (Billion BTU)\")\n",
    "plt.legend()\n",
    "plt.grid()\n",
    "plt.show()\n"
   ]
  },
  {
   "cell_type": "code",
   "execution_count": null,
   "metadata": {},
   "outputs": [],
   "source": [
    "# Filter nuclear energy data for Texas (state code: TX)\n",
    "state_code = 'TX'  # Replace 'TX' with the desired state code\n",
    "state_data = nuclear_long[(nuclear_long['State'] == state_code) & (nuclear_long['MSN'] == 'NUEGB')]\n",
    "\n",
    "# Plot trends for Texas\n",
    "plt.figure(figsize=(12, 8))\n",
    "plt.plot(state_data['Year'], state_data['Energy_Consumption'], marker='o', color='green', label=f'{state_code}')\n",
    "plt.title(f\"Nuclear Energy Consumption in {state_code}\")\n",
    "plt.xlabel(\"Year\")\n",
    "plt.ylabel(\"Energy Consumption (Billion BTU)\")\n",
    "plt.legend()\n",
    "plt.grid()\n",
    "plt.show()\n"
   ]
  },
  {
   "cell_type": "code",
   "execution_count": null,
   "metadata": {},
   "outputs": [],
   "source": [
    "# Compare trends for multiple states (e.g., CA, TX, NY, FL, IL, PA, SC)\n",
    "selected_states = ['CA', 'TX', 'NY', 'FL', 'IL', 'PA', 'SC']\n",
    "plt.figure(figsize=(12, 8))\n",
    "for state in selected_states:\n",
    "    state_data = nuclear_long[(nuclear_long['State'] == state) & (nuclear_long['MSN'] == 'NUEGB')]\n",
    "    plt.plot(state_data['Year'], state_data['Energy_Consumption'], label=state)\n",
    "\n",
    "plt.title(\"Nuclear Energy Consumption Trends Across Selected States\")\n",
    "plt.xlabel(\"Year\")\n",
    "plt.ylabel(\"Energy Consumption (Billion BTU)\")\n",
    "plt.legend(title=\"State\")\n",
    "plt.grid()\n",
    "plt.show()\n"
   ]
  },
  {
   "cell_type": "code",
   "execution_count": null,
   "metadata": {},
   "outputs": [],
   "source": [
    "# Total consumption by state for NUEGB\n",
    "state_totals = nuclear_long[nuclear_long['MSN'] == 'NUEGB'].groupby('State')['Energy_Consumption'].sum().sort_values(ascending=False)\n",
    "print(\"Top states for nuclear energy consumption:\")\n",
    "print(state_totals.head())\n"
   ]
  },
  {
   "cell_type": "code",
   "execution_count": null,
   "metadata": {},
   "outputs": [],
   "source": [
    "# Recreate the nuclear_long DataFrame\n",
    "nuclear_long = pd.melt(\n",
    "    merged_df[merged_df['Description'].str.contains('nuclear', case=False, na=False)],\n",
    "    id_vars=['Data_Status', 'State', 'MSN', 'Description', 'Unit'],\n",
    "    var_name='Year',\n",
    "    value_name='Energy_Consumption'\n",
    ")\n",
    "\n",
    "# Ensure Year is numeric\n",
    "nuclear_long['Year'] = pd.to_numeric(nuclear_long['Year'], errors='coerce')\n",
    "\n",
    "# Drop rows with missing values in Energy_Consumption\n",
    "nuclear_long = nuclear_long.dropna(subset=['Energy_Consumption'])\n",
    "\n",
    "# Identify the top 5 states by total nuclear energy consumption\n",
    "top_states = (\n",
    "    nuclear_long[nuclear_long['MSN'] == 'NUEGB']\n",
    "    .groupby('State')['Energy_Consumption']\n",
    "    .sum()\n",
    "    .sort_values(ascending=False)\n",
    "    .head(5)\n",
    "    .index\n",
    ")\n",
    "\n",
    "# Plot trends for the top 5 states\n",
    "plt.figure(figsize=(12, 8))\n",
    "for state in top_states:\n",
    "    state_data = nuclear_long[(nuclear_long['State'] == state) & (nuclear_long['MSN'] == 'NUEGB')]\n",
    "    plt.plot(state_data['Year'], state_data['Energy_Consumption'], marker='o', label=state)\n",
    "\n",
    "plt.title(\"Nuclear Energy Consumption Trends for Top 5 States\")\n",
    "plt.xlabel(\"Year\")\n",
    "plt.ylabel(\"Energy Consumption (Billion BTU)\")\n",
    "plt.legend(title=\"State\")\n",
    "plt.grid()\n",
    "plt.show()\n"
   ]
  },
  {
   "cell_type": "code",
   "execution_count": null,
   "metadata": {},
   "outputs": [],
   "source": [
    "# Focus on national-level nuclear energy data for NUEGB\n",
    "national_data = nuclear_long[nuclear_long['State'] == 'US']  # US is often used for national aggregates\n",
    "\n",
    "# Ensure data is sorted by year\n",
    "national_data = national_data[national_data['MSN'] == 'NUEGB'].sort_values('Year')\n",
    "\n",
    "# Keep only Year and Energy_Consumption for simplicity\n",
    "forecast_data = national_data[['Year', 'Energy_Consumption']].set_index('Year')\n",
    "\n",
    "# Display the data to confirm structure\n",
    "print(forecast_data.head())\n"
   ]
  },
  {
   "cell_type": "code",
   "execution_count": null,
   "metadata": {},
   "outputs": [],
   "source": [
    "# Filter for national-level data starting from 1960\n",
    "national_data_1960 = nuclear_long[\n",
    "    (nuclear_long['State'] == 'US') & \n",
    "    (nuclear_long['Year'] >= 1960) & \n",
    "    (nuclear_long['MSN'] == 'NUEGB')\n",
    "].sort_values('Year')\n",
    "\n",
    "# Keep only Year and Energy_Consumption\n",
    "forecast_data_1960 = national_data_1960[['Year', 'Energy_Consumption']].set_index('Year')\n",
    "\n",
    "# Display the filtered data\n",
    "print(forecast_data_1960.head())\n"
   ]
  },
  {
   "cell_type": "code",
   "execution_count": null,
   "metadata": {},
   "outputs": [],
   "source": [
    "from statsmodels.tsa.holtwinters import ExponentialSmoothing\n",
    "import matplotlib.pyplot as plt\n",
    "\n",
    "# Train-test split\n",
    "train_1960 = forecast_data_1960.iloc[:-5]  # Use all but the last 5 years as training\n",
    "test_1960 = forecast_data_1960.iloc[-5:]   # Use the last 5 years as testing\n",
    "\n",
    "# Apply Exponential Smoothing\n",
    "model_1960 = ExponentialSmoothing(train_1960, trend=\"add\", seasonal=None, damped_trend=True).fit()\n",
    "\n",
    "# Forecast the next 5 years\n",
    "forecast_1960 = model_1960.forecast(steps=5)\n",
    "\n",
    "# Correct Year handling and plot\n",
    "plt.figure(figsize=(10, 6))\n",
    "plt.plot(train_1960.index, train_1960['Energy_Consumption'], label='Training Data')\n",
    "plt.plot(test_1960.index, test_1960['Energy_Consumption'], label='Actual Data', color='orange')\n",
    "plt.plot(test_1960.index, forecast_1960, label='Forecast', color='green', linestyle='--')\n",
    "plt.title(\"Nuclear Energy Consumption Forecast (National, Starting 1960)\")\n",
    "plt.xlabel(\"Year\")\n",
    "plt.xticks(train_1960.index[::5], rotation=45)  # Adjust year ticks for readability\n",
    "plt.ylabel(\"Energy Consumption (Billion BTU)\")\n",
    "plt.legend()\n",
    "plt.grid()\n",
    "plt.show()\n",
    "\n",
    "\n"
   ]
  },
  {
   "cell_type": "code",
   "execution_count": null,
   "metadata": {},
   "outputs": [],
   "source": [
    "mae_1960 = mean_absolute_error(test_1960, forecast_1960)\n",
    "rmse_1960 = np.sqrt(mean_squared_error(test_1960, forecast_1960))\n",
    "\n",
    "print(f\"Mean Absolute Error (MAE): {mae_1960}\")\n",
    "print(f\"Root Mean Square Error (RMSE): {rmse_1960}\")\n",
    "\n"
   ]
  },
  {
   "cell_type": "code",
   "execution_count": null,
   "metadata": {},
   "outputs": [],
   "source": [
    "# Automatically find the best ARIMA parameters for the training data\n",
    "auto_arima_model = auto_arima(\n",
    "    train_1960,  # Training data\n",
    "    seasonal=False,  # Assume no seasonality\n",
    "    stepwise=True,  # Use a stepwise search to find the best parameters\n",
    "    suppress_warnings=True,  # Suppress warnings for better readability\n",
    "    error_action=\"ignore\",  # Ignore errors for edge cases\n",
    "    trace=True  # Show the parameter search process\n",
    ")\n",
    "\n",
    "# Forecast the next 5 years\n",
    "auto_arima_forecast = auto_arima_model.predict(n_periods=5)\n",
    "\n",
    "# Plot the forecast\n",
    "plt.figure(figsize=(10, 6))\n",
    "plt.plot(train_1960, label=\"Training Data\")\n",
    "plt.plot(test_1960, label=\"Actual Data\", color=\"orange\")\n",
    "plt.plot(test_1960.index, auto_arima_forecast, label=\"Auto ARIMA Forecast\", color=\"green\", linestyle=\"--\")\n",
    "plt.title(\"Nuclear Energy Consumption Forecast with Auto ARIMA\")\n",
    "plt.xlabel(\"Year\")\n",
    "plt.ylabel(\"Energy Consumption (Billion BTU)\")\n",
    "plt.legend()\n",
    "plt.grid()\n",
    "plt.show()\n",
    "\n",
    "# Print the summary of the Auto ARIMA model\n",
    "auto_arima_model.summary()\n"
   ]
  },
  {
   "cell_type": "code",
   "execution_count": 34,
   "metadata": {},
   "outputs": [],
   "source": [
    "# Create lagged features for supervised learning\n",
    "def create_lagged_features(data, lags=3):\n",
    "    df = data.copy()\n",
    "    for lag in range(1, lags + 1):\n",
    "        df[f\"Lag_{lag}\"] = df['Energy_Consumption'].shift(lag)\n",
    "    df.dropna(inplace=True)  # Remove rows with NaN values caused by lagging\n",
    "    return df\n",
    "\n",
    "# Prepare the dataset\n",
    "ml_data = create_lagged_features(forecast_data_1960, lags=3)\n",
    "\n",
    "# Split into training and testing sets\n",
    "X_train = ml_data.iloc[:-5, 1:]  # Lagged features\n",
    "y_train = ml_data.iloc[:-5, 0]   # Target variable\n",
    "X_test = ml_data.iloc[-5:, 1:]\n",
    "y_test = ml_data.iloc[-5:, 0]\n"
   ]
  },
  {
   "cell_type": "code",
   "execution_count": null,
   "metadata": {},
   "outputs": [],
   "source": [
    "# Initialize and train the XGBoost model\n",
    "xgb_model = XGBRegressor(n_estimators=100, learning_rate=0.1, max_depth=3, random_state=42)\n",
    "xgb_model.fit(X_train, y_train)\n",
    "\n",
    "# Make predictions\n",
    "xgb_forecast = xgb_model.predict(X_test)\n",
    "\n",
    "# Evaluate the model\n",
    "mae = mean_absolute_error(y_test, xgb_forecast)\n",
    "rmse = np.sqrt(mean_squared_error(y_test, xgb_forecast))\n",
    "print(f\"XGBoost - MAE: {mae}, RMSE: {rmse}\")\n",
    "\n",
    "# Plot the results\n",
    "import matplotlib.pyplot as plt\n",
    "plt.figure(figsize=(10, 6))\n",
    "plt.plot(ml_data.index[:-5], y_train, label=\"Training Data\")\n",
    "plt.plot(ml_data.index[-5:], y_test, label=\"Actual Data\", color=\"orange\")\n",
    "plt.plot(ml_data.index[-5:], xgb_forecast, label=\"XGBoost Forecast\", color=\"green\", linestyle=\"--\")\n",
    "plt.title(\"Nuclear Energy Consumption Forecast with XGBoost\")\n",
    "plt.xlabel(\"Year\")\n",
    "plt.ylabel(\"Energy Consumption (Billion BTU)\")\n",
    "plt.legend()\n",
    "plt.grid()\n",
    "plt.show()\n"
   ]
  },
  {
   "cell_type": "code",
   "execution_count": null,
   "metadata": {},
   "outputs": [],
   "source": [
    "# Initialize and train the Random Forest model\n",
    "rf_model = RandomForestRegressor(n_estimators=100, random_state=42)\n",
    "rf_model.fit(X_train, y_train)\n",
    "\n",
    "# Make predictions\n",
    "rf_forecast = rf_model.predict(X_test)\n",
    "\n",
    "# Evaluate the model\n",
    "mae_rf = mean_absolute_error(y_test, rf_forecast)\n",
    "rmse_rf = np.sqrt(mean_squared_error(y_test, rf_forecast))\n",
    "print(f\"Random Forest - MAE: {mae_rf}, RMSE: {rmse_rf}\")\n",
    "\n",
    "# Plot the results\n",
    "plt.figure(figsize=(10, 6))\n",
    "plt.plot(ml_data.index[:-5], y_train, label=\"Training Data\")\n",
    "plt.plot(ml_data.index[-5:], y_test, label=\"Actual Data\", color=\"orange\")\n",
    "plt.plot(ml_data.index[-5:], rf_forecast, label=\"Random Forest Forecast\", color=\"blue\", linestyle=\"--\")\n",
    "plt.title(\"Nuclear Energy Consumption Forecast with Random Forest\")\n",
    "plt.xlabel(\"Year\")\n",
    "plt.ylabel(\"Energy Consumption (Billion BTU)\")\n",
    "plt.legend()\n",
    "plt.grid()\n",
    "plt.show()\n"
   ]
  },
  {
   "cell_type": "code",
   "execution_count": null,
   "metadata": {},
   "outputs": [],
   "source": [
    "# Recreate national_data_1960 to define the dataset properly\n",
    "national_data_1960 = nuclear_long[\n",
    "    (nuclear_long['State'] == 'FL') & \n",
    "    (nuclear_long['Year'] >= 1960) & \n",
    "    (nuclear_long['MSN'] == 'NUEGB')\n",
    "].sort_values('Year')\n",
    "\n",
    "# Extract only the necessary columns\n",
    "forecast_data_1960 = national_data_1960[['Year', 'Energy_Consumption']].set_index('Year')\n",
    "\n",
    "# Recreate the lagged features and split the data\n",
    "ml_data = create_lagged_features(forecast_data_1960, lags=3)\n",
    "\n",
    "# Split into training and testing sets\n",
    "X_train = ml_data.iloc[:-5, 1:]  # Lagged features\n",
    "y_train = ml_data.iloc[:-5, 0]   # Target variable\n",
    "X_test = ml_data.iloc[-5:, 1:]\n",
    "y_test = ml_data.iloc[-5:, 0]\n",
    "\n",
    "# Retrain and compare XGBoost and Random Forest models\n",
    "xgb_model = XGBRegressor(n_estimators=100, learning_rate=0.1, max_depth=3, random_state=42)\n",
    "xgb_model.fit(X_train, y_train)\n",
    "\n",
    "# Forecast with XGBoost\n",
    "xgb_forecast = xgb_model.predict(X_test)\n",
    "\n",
    "# Train Random Forest model\n",
    "rf_model = RandomForestRegressor(n_estimators=100, random_state=42)\n",
    "rf_model.fit(X_train, y_train)\n",
    "\n",
    "# Forecast with Random Forest\n",
    "rf_forecast = rf_model.predict(X_test)\n",
    "\n",
    "# Evaluate models\n",
    "xgb_mae = mean_absolute_error(y_test, xgb_forecast)\n",
    "xgb_rmse = np.sqrt(mean_squared_error(y_test, xgb_forecast))\n",
    "rf_mae = mean_absolute_error(y_test, rf_forecast)\n",
    "rf_rmse = np.sqrt(mean_squared_error(y_test, rf_forecast))\n",
    "\n",
    "print(f\"XGBoost - MAE: {xgb_mae}, RMSE: {xgb_rmse}\")\n",
    "print(f\"Random Forest - MAE: {rf_mae}, RMSE: {rf_rmse}\")\n",
    "\n",
    "# Plot results for comparison\n",
    "plt.figure(figsize=(10, 6))\n",
    "plt.plot(ml_data.index[:-5], y_train, label=\"Training Data\")\n",
    "plt.plot(ml_data.index[-5:], y_test, label=\"Actual Data\", color=\"orange\")\n",
    "plt.plot(ml_data.index[-5:], xgb_forecast, label=\"XGBoost Forecast\", color=\"green\", linestyle=\"--\")\n",
    "plt.plot(ml_data.index[-5:], rf_forecast, label=\"Random Forest Forecast\", color=\"blue\", linestyle=\"--\")\n",
    "plt.title(\"Nuclear Energy Consumption Forecast: XGBoost vs Random Forest\")\n",
    "plt.xlabel(\"Year\")\n",
    "plt.ylabel(\"Energy Consumption (Billion BTU)\")\n",
    "plt.legend()\n",
    "plt.grid()\n",
    "plt.show()\n"
   ]
  },
  {
   "cell_type": "code",
   "execution_count": null,
   "metadata": {},
   "outputs": [],
   "source": [
    "# Calculate Mean Absolute Percentage Error (MAPE) for XGBoost and Random Forest\n",
    "mape_xgb = (xgb_mae / y_test.mean()) * 100\n",
    "mape_rf = (rf_mae / y_test.mean()) * 100\n",
    "\n",
    "# Print MAPE results\n",
    "print(f\"XGBoost MAPE: {mape_xgb:.2f}%\")\n",
    "print(f\"Random Forest MAPE: {mape_rf:.2f}%\")\n"
   ]
  },
  {
   "cell_type": "code",
   "execution_count": null,
   "metadata": {},
   "outputs": [],
   "source": [
    "# Recreate necessary functions and data\n",
    "def create_lagged_features(data, lags=3):\n",
    "    df = data.copy()\n",
    "    for lag in range(1, lags + 1):\n",
    "        df[f\"Lag_{lag}\"] = df['Energy_Consumption'].shift(lag)\n",
    "    df.dropna(inplace=True)\n",
    "    return df\n",
    "\n",
    "# Placeholder for forecast_data_1960, replace with actual data loading code\n",
    "# Simulated dummy data for context since the environment was reset\n",
    "years = pd.date_range(start='1960', periods=62, freq='Y')\n",
    "energy_consumption = np.cumsum(np.random.randint(100, 200, size=62))  # Simulated growth data\n",
    "forecast_data_1960 = pd.DataFrame({'Energy_Consumption': energy_consumption}, index=years.year)\n",
    "\n",
    "# Prepare the data for machine learning\n",
    "ml_data = create_lagged_features(forecast_data_1960, lags=3)\n",
    "\n",
    "# Split into training and testing sets\n",
    "X_train = ml_data.iloc[:-5, 1:]\n",
    "y_train = ml_data.iloc[:-5, 0]\n",
    "X_test = ml_data.iloc[-5:, 1:]\n",
    "y_test = ml_data.iloc[-5:, 0]\n",
    "\n",
    "# Train XGBoost model\n",
    "xgb_model = XGBRegressor(n_estimators=100, learning_rate=0.1, max_depth=3, random_state=42)\n",
    "xgb_model.fit(X_train, y_train)\n",
    "xgb_forecast = xgb_model.predict(X_test)\n",
    "\n",
    "# Train Random Forest model\n",
    "rf_model = RandomForestRegressor(n_estimators=100, random_state=42)\n",
    "rf_model.fit(X_train, y_train)\n",
    "rf_forecast = rf_model.predict(X_test)\n",
    "\n",
    "# Calculate MAE for both models\n",
    "xgb_mae = mean_absolute_error(y_test, xgb_forecast)\n",
    "rf_mae = mean_absolute_error(y_test, rf_forecast)\n",
    "\n",
    "# Calculate MAPE for XGBoost and Random Forest\n",
    "mape_xgb = (xgb_mae / y_test.mean()) * 100\n",
    "mape_rf = (rf_mae / y_test.mean()) * 100\n",
    "\n",
    "# Print MAPE results\n",
    "print(f\"XGBoost MAPE: {mape_xgb:.2f}%\")\n",
    "print(f\"Random Forest MAPE: {mape_rf:.2f}%\")\n"
   ]
  },
  {
   "cell_type": "code",
   "execution_count": null,
   "metadata": {},
   "outputs": [],
   "source": []
  }
 ],
 "metadata": {
  "kernelspec": {
   "display_name": "Python 3",
   "language": "python",
   "name": "python3"
  },
  "language_info": {
   "codemirror_mode": {
    "name": "ipython",
    "version": 3
   },
   "file_extension": ".py",
   "mimetype": "text/x-python",
   "name": "python",
   "nbconvert_exporter": "python",
   "pygments_lexer": "ipython3",
   "version": "3.11.9"
  }
 },
 "nbformat": 4,
 "nbformat_minor": 2
}
